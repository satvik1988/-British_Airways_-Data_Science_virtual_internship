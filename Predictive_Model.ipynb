{
 "cells": [
  {
   "cell_type": "markdown",
   "id": "d85269ce",
   "metadata": {},
   "source": [
    "# Predictive Model"
   ]
  },
  {
   "cell_type": "code",
   "execution_count": 1,
   "id": "f6c2970f",
   "metadata": {},
   "outputs": [],
   "source": [
    "# imports\n",
    "\n",
    "import pandas as pd\n",
    "import numpy as np\n",
    "\n",
    "import os\n",
    "\n",
    "import matplotlib.pyplot as plt\n",
    "import seaborn as sns"
   ]
  },
  {
   "cell_type": "code",
   "execution_count": 2,
   "id": "f3c3068a",
   "metadata": {},
   "outputs": [],
   "source": [
    "# import data\n",
    "cwd = os.getcwd()\n",
    "fcb = pd.read_csv(cwd + \"/filtered_customer_booking.csv\", index_col=0)"
   ]
  },
  {
   "cell_type": "code",
   "execution_count": 3,
   "id": "6ec93647",
   "metadata": {
    "scrolled": true
   },
   "outputs": [
    {
     "data": {
      "text/html": [
       "<div>\n",
       "<style scoped>\n",
       "    .dataframe tbody tr th:only-of-type {\n",
       "        vertical-align: middle;\n",
       "    }\n",
       "\n",
       "    .dataframe tbody tr th {\n",
       "        vertical-align: top;\n",
       "    }\n",
       "\n",
       "    .dataframe thead th {\n",
       "        text-align: right;\n",
       "    }\n",
       "</style>\n",
       "<table border=\"1\" class=\"dataframe\">\n",
       "  <thead>\n",
       "    <tr style=\"text-align: right;\">\n",
       "      <th></th>\n",
       "      <th>num_passengers</th>\n",
       "      <th>sales_channel</th>\n",
       "      <th>trip_type</th>\n",
       "      <th>purchase_lead</th>\n",
       "      <th>length_of_stay</th>\n",
       "      <th>flight_hour</th>\n",
       "      <th>flight_day</th>\n",
       "      <th>route</th>\n",
       "      <th>booking_origin</th>\n",
       "      <th>wants_extra_baggage</th>\n",
       "      <th>wants_preferred_seat</th>\n",
       "      <th>wants_in_flight_meals</th>\n",
       "      <th>flight_duration</th>\n",
       "      <th>booking_complete</th>\n",
       "    </tr>\n",
       "  </thead>\n",
       "  <tbody>\n",
       "    <tr>\n",
       "      <th>0</th>\n",
       "      <td>2</td>\n",
       "      <td>1</td>\n",
       "      <td>0</td>\n",
       "      <td>262</td>\n",
       "      <td>19</td>\n",
       "      <td>7</td>\n",
       "      <td>6</td>\n",
       "      <td>AKLDEL</td>\n",
       "      <td>New Zealand</td>\n",
       "      <td>1</td>\n",
       "      <td>0</td>\n",
       "      <td>0</td>\n",
       "      <td>5.52</td>\n",
       "      <td>0</td>\n",
       "    </tr>\n",
       "    <tr>\n",
       "      <th>1</th>\n",
       "      <td>1</td>\n",
       "      <td>1</td>\n",
       "      <td>0</td>\n",
       "      <td>112</td>\n",
       "      <td>20</td>\n",
       "      <td>3</td>\n",
       "      <td>6</td>\n",
       "      <td>AKLDEL</td>\n",
       "      <td>New Zealand</td>\n",
       "      <td>0</td>\n",
       "      <td>0</td>\n",
       "      <td>0</td>\n",
       "      <td>5.52</td>\n",
       "      <td>0</td>\n",
       "    </tr>\n",
       "    <tr>\n",
       "      <th>2</th>\n",
       "      <td>2</td>\n",
       "      <td>1</td>\n",
       "      <td>0</td>\n",
       "      <td>243</td>\n",
       "      <td>22</td>\n",
       "      <td>17</td>\n",
       "      <td>3</td>\n",
       "      <td>AKLDEL</td>\n",
       "      <td>India</td>\n",
       "      <td>1</td>\n",
       "      <td>1</td>\n",
       "      <td>0</td>\n",
       "      <td>5.52</td>\n",
       "      <td>0</td>\n",
       "    </tr>\n",
       "    <tr>\n",
       "      <th>3</th>\n",
       "      <td>1</td>\n",
       "      <td>1</td>\n",
       "      <td>0</td>\n",
       "      <td>96</td>\n",
       "      <td>31</td>\n",
       "      <td>4</td>\n",
       "      <td>6</td>\n",
       "      <td>AKLDEL</td>\n",
       "      <td>New Zealand</td>\n",
       "      <td>0</td>\n",
       "      <td>0</td>\n",
       "      <td>1</td>\n",
       "      <td>5.52</td>\n",
       "      <td>0</td>\n",
       "    </tr>\n",
       "    <tr>\n",
       "      <th>4</th>\n",
       "      <td>2</td>\n",
       "      <td>1</td>\n",
       "      <td>0</td>\n",
       "      <td>68</td>\n",
       "      <td>22</td>\n",
       "      <td>15</td>\n",
       "      <td>3</td>\n",
       "      <td>AKLDEL</td>\n",
       "      <td>India</td>\n",
       "      <td>1</td>\n",
       "      <td>0</td>\n",
       "      <td>1</td>\n",
       "      <td>5.52</td>\n",
       "      <td>0</td>\n",
       "    </tr>\n",
       "  </tbody>\n",
       "</table>\n",
       "</div>"
      ],
      "text/plain": [
       "   num_passengers  sales_channel  trip_type  purchase_lead  length_of_stay  \\\n",
       "0               2              1          0            262              19   \n",
       "1               1              1          0            112              20   \n",
       "2               2              1          0            243              22   \n",
       "3               1              1          0             96              31   \n",
       "4               2              1          0             68              22   \n",
       "\n",
       "   flight_hour  flight_day   route booking_origin  wants_extra_baggage  \\\n",
       "0            7           6  AKLDEL    New Zealand                    1   \n",
       "1            3           6  AKLDEL    New Zealand                    0   \n",
       "2           17           3  AKLDEL          India                    1   \n",
       "3            4           6  AKLDEL    New Zealand                    0   \n",
       "4           15           3  AKLDEL          India                    1   \n",
       "\n",
       "   wants_preferred_seat  wants_in_flight_meals  flight_duration  \\\n",
       "0                     0                      0             5.52   \n",
       "1                     0                      0             5.52   \n",
       "2                     1                      0             5.52   \n",
       "3                     0                      1             5.52   \n",
       "4                     0                      1             5.52   \n",
       "\n",
       "   booking_complete  \n",
       "0                 0  \n",
       "1                 0  \n",
       "2                 0  \n",
       "3                 0  \n",
       "4                 0  "
      ]
     },
     "execution_count": 3,
     "metadata": {},
     "output_type": "execute_result"
    }
   ],
   "source": [
    "fcb = fcb.reset_index(drop=True)\n",
    "fcb.head(5)"
   ]
  },
  {
   "cell_type": "code",
   "execution_count": 4,
   "id": "4fec3547",
   "metadata": {},
   "outputs": [
    {
     "data": {
      "text/plain": [
       "(49599, 14)"
      ]
     },
     "execution_count": 4,
     "metadata": {},
     "output_type": "execute_result"
    }
   ],
   "source": [
    "fcb.shape"
   ]
  },
  {
   "cell_type": "code",
   "execution_count": 5,
   "id": "864ca04e",
   "metadata": {},
   "outputs": [],
   "source": [
    "final_cbf = fcb"
   ]
  },
  {
   "cell_type": "code",
   "execution_count": 6,
   "id": "ee52fa04",
   "metadata": {},
   "outputs": [
    {
     "data": {
      "text/plain": [
       "num_passengers           0\n",
       "sales_channel            0\n",
       "trip_type                0\n",
       "purchase_lead            0\n",
       "length_of_stay           0\n",
       "flight_hour              0\n",
       "flight_day               0\n",
       "route                    0\n",
       "booking_origin           0\n",
       "wants_extra_baggage      0\n",
       "wants_preferred_seat     0\n",
       "wants_in_flight_meals    0\n",
       "flight_duration          0\n",
       "booking_complete         0\n",
       "dtype: int64"
      ]
     },
     "execution_count": 6,
     "metadata": {},
     "output_type": "execute_result"
    }
   ],
   "source": [
    "final_cbf.isnull().sum()"
   ]
  },
  {
   "cell_type": "code",
   "execution_count": 7,
   "id": "4d2e5ce6",
   "metadata": {},
   "outputs": [],
   "source": [
    "from sklearn.preprocessing import OneHotEncoder\n",
    "\n",
    "\n",
    "#create instance of one hot encoder\n",
    "encoder = OneHotEncoder(handle_unknown='ignore')\n",
    "\n",
    "#one hot encode Sales Channel\n",
    "encoder_df = pd.DataFrame(encoder.fit_transform(fcb[[\"sales_channel\"]]).toarray())\n",
    "encoder_df = encoder_df.rename(columns={0:'Internet', 1:'Mobile'})\n",
    "final_cbf = final_cbf.join(encoder_df)\n",
    "\n",
    "#one hot encode trip type\n",
    "encoder_df = pd.DataFrame(encoder.fit_transform(fcb[[\"trip_type\"]]).toarray())\n",
    "encoder_df = encoder_df.rename(columns={0:'RoundTRip', 1:'OneWayTrip',2:'CircleTrip'})\n",
    "final_cbf = final_cbf.join(encoder_df)"
   ]
  },
  {
   "cell_type": "code",
   "execution_count": 8,
   "id": "77874dac",
   "metadata": {},
   "outputs": [],
   "source": [
    "#drop categorical columns now\n",
    "final_cbf.drop(['sales_channel', 'trip_type','booking_origin', 'route'], axis=1, inplace = True)"
   ]
  },
  {
   "cell_type": "code",
   "execution_count": 9,
   "id": "487ec128",
   "metadata": {},
   "outputs": [],
   "source": [
    "booking_complete = final_cbf['booking_complete']"
   ]
  },
  {
   "cell_type": "code",
   "execution_count": 10,
   "id": "c0f1f526",
   "metadata": {
    "scrolled": true
   },
   "outputs": [],
   "source": [
    "final_cbf = final_cbf.drop('booking_complete', axis=1)"
   ]
  },
  {
   "cell_type": "code",
   "execution_count": 11,
   "id": "0b5e58e3",
   "metadata": {},
   "outputs": [
    {
     "data": {
      "text/plain": [
       "0        0\n",
       "1        0\n",
       "2        0\n",
       "3        0\n",
       "4        0\n",
       "        ..\n",
       "49594    0\n",
       "49595    0\n",
       "49596    0\n",
       "49597    0\n",
       "49598    0\n",
       "Name: booking_complete, Length: 49599, dtype: int64"
      ]
     },
     "execution_count": 11,
     "metadata": {},
     "output_type": "execute_result"
    }
   ],
   "source": [
    "booking_complete"
   ]
  },
  {
   "cell_type": "markdown",
   "id": "da38e949",
   "metadata": {},
   "source": [
    "# Normalizaing the values"
   ]
  },
  {
   "cell_type": "code",
   "execution_count": 12,
   "id": "00a850df",
   "metadata": {},
   "outputs": [],
   "source": [
    "from sklearn.preprocessing import StandardScaler\n",
    "\n",
    "#create a standard scaler object\n",
    "scaler = StandardScaler()\n",
    "\n",
    "#fit and transform the data\n",
    "scaled_df = scaler.fit_transform(final_cbf)"
   ]
  },
  {
   "cell_type": "code",
   "execution_count": 13,
   "id": "2986804d",
   "metadata": {},
   "outputs": [
    {
     "data": {
      "text/plain": [
       "array([[ 0.4060384 ,  2.10663735, -0.12226628, ...,  0.10111705,\n",
       "        -0.04841735, -0.08856329],\n",
       "       [-0.57678813,  0.34929432, -0.09282557, ...,  0.10111705,\n",
       "        -0.04841735, -0.08856329],\n",
       "       [ 0.4060384 ,  1.88404057, -0.03394416, ...,  0.10111705,\n",
       "        -0.04841735, -0.08856329],\n",
       "       ...,\n",
       "       [-0.57678813, -0.68168025, -0.50499546, ...,  0.10111705,\n",
       "        -0.04841735, -0.08856329],\n",
       "       [-0.57678813, -0.78712084, -0.50499546, ...,  0.10111705,\n",
       "        -0.04841735, -0.08856329],\n",
       "       [-0.57678813, -0.74025836, -0.50499546, ...,  0.10111705,\n",
       "        -0.04841735, -0.08856329]])"
      ]
     },
     "execution_count": 13,
     "metadata": {},
     "output_type": "execute_result"
    }
   ],
   "source": [
    "scaled_df"
   ]
  },
  {
   "cell_type": "code",
   "execution_count": 14,
   "id": "b3e193fc",
   "metadata": {},
   "outputs": [],
   "source": [
    "scaled_df = pd.DataFrame(scaled_df, columns = final_cbf.columns)"
   ]
  },
  {
   "cell_type": "code",
   "execution_count": 15,
   "id": "8dd74622",
   "metadata": {},
   "outputs": [
    {
     "data": {
      "text/html": [
       "<div>\n",
       "<style scoped>\n",
       "    .dataframe tbody tr th:only-of-type {\n",
       "        vertical-align: middle;\n",
       "    }\n",
       "\n",
       "    .dataframe tbody tr th {\n",
       "        vertical-align: top;\n",
       "    }\n",
       "\n",
       "    .dataframe thead th {\n",
       "        text-align: right;\n",
       "    }\n",
       "</style>\n",
       "<table border=\"1\" class=\"dataframe\">\n",
       "  <thead>\n",
       "    <tr style=\"text-align: right;\">\n",
       "      <th></th>\n",
       "      <th>num_passengers</th>\n",
       "      <th>purchase_lead</th>\n",
       "      <th>length_of_stay</th>\n",
       "      <th>flight_hour</th>\n",
       "      <th>flight_day</th>\n",
       "      <th>wants_extra_baggage</th>\n",
       "      <th>wants_preferred_seat</th>\n",
       "      <th>wants_in_flight_meals</th>\n",
       "      <th>flight_duration</th>\n",
       "      <th>Internet</th>\n",
       "      <th>Mobile</th>\n",
       "      <th>RoundTRip</th>\n",
       "      <th>OneWayTrip</th>\n",
       "      <th>CircleTrip</th>\n",
       "    </tr>\n",
       "  </thead>\n",
       "  <tbody>\n",
       "    <tr>\n",
       "      <th>0</th>\n",
       "      <td>0.406038</td>\n",
       "      <td>2.106637</td>\n",
       "      <td>-0.122266</td>\n",
       "      <td>-0.381112</td>\n",
       "      <td>1.099679</td>\n",
       "      <td>0.701469</td>\n",
       "      <td>-0.651302</td>\n",
       "      <td>-0.865430</td>\n",
       "      <td>-1.173139</td>\n",
       "      <td>0.355679</td>\n",
       "      <td>-0.355679</td>\n",
       "      <td>0.101117</td>\n",
       "      <td>-0.048417</td>\n",
       "      <td>-0.088563</td>\n",
       "    </tr>\n",
       "    <tr>\n",
       "      <th>1</th>\n",
       "      <td>-0.576788</td>\n",
       "      <td>0.349294</td>\n",
       "      <td>-0.092826</td>\n",
       "      <td>-1.120874</td>\n",
       "      <td>1.099679</td>\n",
       "      <td>-1.425580</td>\n",
       "      <td>-0.651302</td>\n",
       "      <td>-0.865430</td>\n",
       "      <td>-1.173139</td>\n",
       "      <td>0.355679</td>\n",
       "      <td>-0.355679</td>\n",
       "      <td>0.101117</td>\n",
       "      <td>-0.048417</td>\n",
       "      <td>-0.088563</td>\n",
       "    </tr>\n",
       "    <tr>\n",
       "      <th>2</th>\n",
       "      <td>0.406038</td>\n",
       "      <td>1.884041</td>\n",
       "      <td>-0.033944</td>\n",
       "      <td>1.468294</td>\n",
       "      <td>-0.408797</td>\n",
       "      <td>0.701469</td>\n",
       "      <td>1.535386</td>\n",
       "      <td>-0.865430</td>\n",
       "      <td>-1.173139</td>\n",
       "      <td>0.355679</td>\n",
       "      <td>-0.355679</td>\n",
       "      <td>0.101117</td>\n",
       "      <td>-0.048417</td>\n",
       "      <td>-0.088563</td>\n",
       "    </tr>\n",
       "    <tr>\n",
       "      <th>3</th>\n",
       "      <td>-0.576788</td>\n",
       "      <td>0.161844</td>\n",
       "      <td>0.231022</td>\n",
       "      <td>-0.935934</td>\n",
       "      <td>1.099679</td>\n",
       "      <td>-1.425580</td>\n",
       "      <td>-0.651302</td>\n",
       "      <td>1.155495</td>\n",
       "      <td>-1.173139</td>\n",
       "      <td>0.355679</td>\n",
       "      <td>-0.355679</td>\n",
       "      <td>0.101117</td>\n",
       "      <td>-0.048417</td>\n",
       "      <td>-0.088563</td>\n",
       "    </tr>\n",
       "    <tr>\n",
       "      <th>4</th>\n",
       "      <td>0.406038</td>\n",
       "      <td>-0.166193</td>\n",
       "      <td>-0.033944</td>\n",
       "      <td>1.098413</td>\n",
       "      <td>-0.408797</td>\n",
       "      <td>0.701469</td>\n",
       "      <td>-0.651302</td>\n",
       "      <td>1.155495</td>\n",
       "      <td>-1.173139</td>\n",
       "      <td>0.355679</td>\n",
       "      <td>-0.355679</td>\n",
       "      <td>0.101117</td>\n",
       "      <td>-0.048417</td>\n",
       "      <td>-0.088563</td>\n",
       "    </tr>\n",
       "  </tbody>\n",
       "</table>\n",
       "</div>"
      ],
      "text/plain": [
       "   num_passengers  purchase_lead  length_of_stay  flight_hour  flight_day  \\\n",
       "0        0.406038       2.106637       -0.122266    -0.381112    1.099679   \n",
       "1       -0.576788       0.349294       -0.092826    -1.120874    1.099679   \n",
       "2        0.406038       1.884041       -0.033944     1.468294   -0.408797   \n",
       "3       -0.576788       0.161844        0.231022    -0.935934    1.099679   \n",
       "4        0.406038      -0.166193       -0.033944     1.098413   -0.408797   \n",
       "\n",
       "   wants_extra_baggage  wants_preferred_seat  wants_in_flight_meals  \\\n",
       "0             0.701469             -0.651302              -0.865430   \n",
       "1            -1.425580             -0.651302              -0.865430   \n",
       "2             0.701469              1.535386              -0.865430   \n",
       "3            -1.425580             -0.651302               1.155495   \n",
       "4             0.701469             -0.651302               1.155495   \n",
       "\n",
       "   flight_duration  Internet    Mobile  RoundTRip  OneWayTrip  CircleTrip  \n",
       "0        -1.173139  0.355679 -0.355679   0.101117   -0.048417   -0.088563  \n",
       "1        -1.173139  0.355679 -0.355679   0.101117   -0.048417   -0.088563  \n",
       "2        -1.173139  0.355679 -0.355679   0.101117   -0.048417   -0.088563  \n",
       "3        -1.173139  0.355679 -0.355679   0.101117   -0.048417   -0.088563  \n",
       "4        -1.173139  0.355679 -0.355679   0.101117   -0.048417   -0.088563  "
      ]
     },
     "execution_count": 15,
     "metadata": {},
     "output_type": "execute_result"
    }
   ],
   "source": [
    "scaled_df.head()"
   ]
  },
  {
   "cell_type": "code",
   "execution_count": 16,
   "id": "9a79640c",
   "metadata": {},
   "outputs": [],
   "source": [
    "scaled_df[\"booking_complete\"]= booking_complete"
   ]
  },
  {
   "cell_type": "code",
   "execution_count": 17,
   "id": "6d99e0a6",
   "metadata": {},
   "outputs": [
    {
     "data": {
      "text/html": [
       "<div>\n",
       "<style scoped>\n",
       "    .dataframe tbody tr th:only-of-type {\n",
       "        vertical-align: middle;\n",
       "    }\n",
       "\n",
       "    .dataframe tbody tr th {\n",
       "        vertical-align: top;\n",
       "    }\n",
       "\n",
       "    .dataframe thead th {\n",
       "        text-align: right;\n",
       "    }\n",
       "</style>\n",
       "<table border=\"1\" class=\"dataframe\">\n",
       "  <thead>\n",
       "    <tr style=\"text-align: right;\">\n",
       "      <th></th>\n",
       "      <th>num_passengers</th>\n",
       "      <th>purchase_lead</th>\n",
       "      <th>length_of_stay</th>\n",
       "      <th>flight_hour</th>\n",
       "      <th>flight_day</th>\n",
       "      <th>wants_extra_baggage</th>\n",
       "      <th>wants_preferred_seat</th>\n",
       "      <th>wants_in_flight_meals</th>\n",
       "      <th>flight_duration</th>\n",
       "      <th>Internet</th>\n",
       "      <th>Mobile</th>\n",
       "      <th>RoundTRip</th>\n",
       "      <th>OneWayTrip</th>\n",
       "      <th>CircleTrip</th>\n",
       "      <th>booking_complete</th>\n",
       "    </tr>\n",
       "  </thead>\n",
       "  <tbody>\n",
       "    <tr>\n",
       "      <th>0</th>\n",
       "      <td>0.406038</td>\n",
       "      <td>2.106637</td>\n",
       "      <td>-0.122266</td>\n",
       "      <td>-0.381112</td>\n",
       "      <td>1.099679</td>\n",
       "      <td>0.701469</td>\n",
       "      <td>-0.651302</td>\n",
       "      <td>-0.865430</td>\n",
       "      <td>-1.173139</td>\n",
       "      <td>0.355679</td>\n",
       "      <td>-0.355679</td>\n",
       "      <td>0.101117</td>\n",
       "      <td>-0.048417</td>\n",
       "      <td>-0.088563</td>\n",
       "      <td>0</td>\n",
       "    </tr>\n",
       "    <tr>\n",
       "      <th>1</th>\n",
       "      <td>-0.576788</td>\n",
       "      <td>0.349294</td>\n",
       "      <td>-0.092826</td>\n",
       "      <td>-1.120874</td>\n",
       "      <td>1.099679</td>\n",
       "      <td>-1.425580</td>\n",
       "      <td>-0.651302</td>\n",
       "      <td>-0.865430</td>\n",
       "      <td>-1.173139</td>\n",
       "      <td>0.355679</td>\n",
       "      <td>-0.355679</td>\n",
       "      <td>0.101117</td>\n",
       "      <td>-0.048417</td>\n",
       "      <td>-0.088563</td>\n",
       "      <td>0</td>\n",
       "    </tr>\n",
       "    <tr>\n",
       "      <th>2</th>\n",
       "      <td>0.406038</td>\n",
       "      <td>1.884041</td>\n",
       "      <td>-0.033944</td>\n",
       "      <td>1.468294</td>\n",
       "      <td>-0.408797</td>\n",
       "      <td>0.701469</td>\n",
       "      <td>1.535386</td>\n",
       "      <td>-0.865430</td>\n",
       "      <td>-1.173139</td>\n",
       "      <td>0.355679</td>\n",
       "      <td>-0.355679</td>\n",
       "      <td>0.101117</td>\n",
       "      <td>-0.048417</td>\n",
       "      <td>-0.088563</td>\n",
       "      <td>0</td>\n",
       "    </tr>\n",
       "    <tr>\n",
       "      <th>3</th>\n",
       "      <td>-0.576788</td>\n",
       "      <td>0.161844</td>\n",
       "      <td>0.231022</td>\n",
       "      <td>-0.935934</td>\n",
       "      <td>1.099679</td>\n",
       "      <td>-1.425580</td>\n",
       "      <td>-0.651302</td>\n",
       "      <td>1.155495</td>\n",
       "      <td>-1.173139</td>\n",
       "      <td>0.355679</td>\n",
       "      <td>-0.355679</td>\n",
       "      <td>0.101117</td>\n",
       "      <td>-0.048417</td>\n",
       "      <td>-0.088563</td>\n",
       "      <td>0</td>\n",
       "    </tr>\n",
       "    <tr>\n",
       "      <th>4</th>\n",
       "      <td>0.406038</td>\n",
       "      <td>-0.166193</td>\n",
       "      <td>-0.033944</td>\n",
       "      <td>1.098413</td>\n",
       "      <td>-0.408797</td>\n",
       "      <td>0.701469</td>\n",
       "      <td>-0.651302</td>\n",
       "      <td>1.155495</td>\n",
       "      <td>-1.173139</td>\n",
       "      <td>0.355679</td>\n",
       "      <td>-0.355679</td>\n",
       "      <td>0.101117</td>\n",
       "      <td>-0.048417</td>\n",
       "      <td>-0.088563</td>\n",
       "      <td>0</td>\n",
       "    </tr>\n",
       "    <tr>\n",
       "      <th>...</th>\n",
       "      <td>...</td>\n",
       "      <td>...</td>\n",
       "      <td>...</td>\n",
       "      <td>...</td>\n",
       "      <td>...</td>\n",
       "      <td>...</td>\n",
       "      <td>...</td>\n",
       "      <td>...</td>\n",
       "      <td>...</td>\n",
       "      <td>...</td>\n",
       "      <td>...</td>\n",
       "      <td>...</td>\n",
       "      <td>...</td>\n",
       "      <td>...</td>\n",
       "      <td>...</td>\n",
       "    </tr>\n",
       "    <tr>\n",
       "      <th>49594</th>\n",
       "      <td>0.406038</td>\n",
       "      <td>-0.646533</td>\n",
       "      <td>-0.504995</td>\n",
       "      <td>-0.011231</td>\n",
       "      <td>1.099679</td>\n",
       "      <td>0.701469</td>\n",
       "      <td>-0.651302</td>\n",
       "      <td>1.155495</td>\n",
       "      <td>-1.106403</td>\n",
       "      <td>0.355679</td>\n",
       "      <td>-0.355679</td>\n",
       "      <td>0.101117</td>\n",
       "      <td>-0.048417</td>\n",
       "      <td>-0.088563</td>\n",
       "      <td>0</td>\n",
       "    </tr>\n",
       "    <tr>\n",
       "      <th>49595</th>\n",
       "      <td>-0.576788</td>\n",
       "      <td>0.337579</td>\n",
       "      <td>-0.504995</td>\n",
       "      <td>-0.935934</td>\n",
       "      <td>1.602505</td>\n",
       "      <td>-1.425580</td>\n",
       "      <td>-0.651302</td>\n",
       "      <td>-0.865430</td>\n",
       "      <td>-1.106403</td>\n",
       "      <td>0.355679</td>\n",
       "      <td>-0.355679</td>\n",
       "      <td>0.101117</td>\n",
       "      <td>-0.048417</td>\n",
       "      <td>-0.088563</td>\n",
       "      <td>0</td>\n",
       "    </tr>\n",
       "    <tr>\n",
       "      <th>49596</th>\n",
       "      <td>-0.576788</td>\n",
       "      <td>-0.681680</td>\n",
       "      <td>-0.504995</td>\n",
       "      <td>2.392997</td>\n",
       "      <td>1.099679</td>\n",
       "      <td>-1.425580</td>\n",
       "      <td>-0.651302</td>\n",
       "      <td>1.155495</td>\n",
       "      <td>-1.106403</td>\n",
       "      <td>0.355679</td>\n",
       "      <td>-0.355679</td>\n",
       "      <td>0.101117</td>\n",
       "      <td>-0.048417</td>\n",
       "      <td>-0.088563</td>\n",
       "      <td>0</td>\n",
       "    </tr>\n",
       "    <tr>\n",
       "      <th>49597</th>\n",
       "      <td>-0.576788</td>\n",
       "      <td>-0.787121</td>\n",
       "      <td>-0.504995</td>\n",
       "      <td>0.358650</td>\n",
       "      <td>-1.414448</td>\n",
       "      <td>0.701469</td>\n",
       "      <td>-0.651302</td>\n",
       "      <td>1.155495</td>\n",
       "      <td>-1.106403</td>\n",
       "      <td>0.355679</td>\n",
       "      <td>-0.355679</td>\n",
       "      <td>0.101117</td>\n",
       "      <td>-0.048417</td>\n",
       "      <td>-0.088563</td>\n",
       "      <td>0</td>\n",
       "    </tr>\n",
       "    <tr>\n",
       "      <th>49598</th>\n",
       "      <td>-0.576788</td>\n",
       "      <td>-0.740258</td>\n",
       "      <td>-0.504995</td>\n",
       "      <td>0.173710</td>\n",
       "      <td>0.094028</td>\n",
       "      <td>-1.425580</td>\n",
       "      <td>1.535386</td>\n",
       "      <td>-0.865430</td>\n",
       "      <td>-1.106403</td>\n",
       "      <td>0.355679</td>\n",
       "      <td>-0.355679</td>\n",
       "      <td>0.101117</td>\n",
       "      <td>-0.048417</td>\n",
       "      <td>-0.088563</td>\n",
       "      <td>0</td>\n",
       "    </tr>\n",
       "  </tbody>\n",
       "</table>\n",
       "<p>49599 rows × 15 columns</p>\n",
       "</div>"
      ],
      "text/plain": [
       "       num_passengers  purchase_lead  length_of_stay  flight_hour  flight_day  \\\n",
       "0            0.406038       2.106637       -0.122266    -0.381112    1.099679   \n",
       "1           -0.576788       0.349294       -0.092826    -1.120874    1.099679   \n",
       "2            0.406038       1.884041       -0.033944     1.468294   -0.408797   \n",
       "3           -0.576788       0.161844        0.231022    -0.935934    1.099679   \n",
       "4            0.406038      -0.166193       -0.033944     1.098413   -0.408797   \n",
       "...               ...            ...             ...          ...         ...   \n",
       "49594        0.406038      -0.646533       -0.504995    -0.011231    1.099679   \n",
       "49595       -0.576788       0.337579       -0.504995    -0.935934    1.602505   \n",
       "49596       -0.576788      -0.681680       -0.504995     2.392997    1.099679   \n",
       "49597       -0.576788      -0.787121       -0.504995     0.358650   -1.414448   \n",
       "49598       -0.576788      -0.740258       -0.504995     0.173710    0.094028   \n",
       "\n",
       "       wants_extra_baggage  wants_preferred_seat  wants_in_flight_meals  \\\n",
       "0                 0.701469             -0.651302              -0.865430   \n",
       "1                -1.425580             -0.651302              -0.865430   \n",
       "2                 0.701469              1.535386              -0.865430   \n",
       "3                -1.425580             -0.651302               1.155495   \n",
       "4                 0.701469             -0.651302               1.155495   \n",
       "...                    ...                   ...                    ...   \n",
       "49594             0.701469             -0.651302               1.155495   \n",
       "49595            -1.425580             -0.651302              -0.865430   \n",
       "49596            -1.425580             -0.651302               1.155495   \n",
       "49597             0.701469             -0.651302               1.155495   \n",
       "49598            -1.425580              1.535386              -0.865430   \n",
       "\n",
       "       flight_duration  Internet    Mobile  RoundTRip  OneWayTrip  CircleTrip  \\\n",
       "0            -1.173139  0.355679 -0.355679   0.101117   -0.048417   -0.088563   \n",
       "1            -1.173139  0.355679 -0.355679   0.101117   -0.048417   -0.088563   \n",
       "2            -1.173139  0.355679 -0.355679   0.101117   -0.048417   -0.088563   \n",
       "3            -1.173139  0.355679 -0.355679   0.101117   -0.048417   -0.088563   \n",
       "4            -1.173139  0.355679 -0.355679   0.101117   -0.048417   -0.088563   \n",
       "...                ...       ...       ...        ...         ...         ...   \n",
       "49594        -1.106403  0.355679 -0.355679   0.101117   -0.048417   -0.088563   \n",
       "49595        -1.106403  0.355679 -0.355679   0.101117   -0.048417   -0.088563   \n",
       "49596        -1.106403  0.355679 -0.355679   0.101117   -0.048417   -0.088563   \n",
       "49597        -1.106403  0.355679 -0.355679   0.101117   -0.048417   -0.088563   \n",
       "49598        -1.106403  0.355679 -0.355679   0.101117   -0.048417   -0.088563   \n",
       "\n",
       "       booking_complete  \n",
       "0                     0  \n",
       "1                     0  \n",
       "2                     0  \n",
       "3                     0  \n",
       "4                     0  \n",
       "...                 ...  \n",
       "49594                 0  \n",
       "49595                 0  \n",
       "49596                 0  \n",
       "49597                 0  \n",
       "49598                 0  \n",
       "\n",
       "[49599 rows x 15 columns]"
      ]
     },
     "execution_count": 17,
     "metadata": {},
     "output_type": "execute_result"
    }
   ],
   "source": [
    "scaled_df"
   ]
  },
  {
   "cell_type": "markdown",
   "id": "074cc32a",
   "metadata": {},
   "source": [
    "# Correlation matrix"
   ]
  },
  {
   "cell_type": "code",
   "execution_count": 18,
   "id": "fabe3a76",
   "metadata": {},
   "outputs": [
    {
     "data": {
      "image/png": "[encoded data removed]",
      "text/plain": [
       "<Figure size 720x504 with 2 Axes>"
      ]
     },
     "metadata": {
      "needs_background": "light"
     },
     "output_type": "display_data"
    }
   ],
   "source": [
    "correlation = scaled_df.corr()\n",
    "\n",
    "plt.figure(figsize=(10,7))\n",
    "\n",
    "#plot the heatmap\n",
    "sns.heatmap(correlation, annot=True, fmt='.2f',cmap='coolwarm')\n",
    "#sns.heatmap(corr)\n",
    "plt.show()"
   ]
  },
  {
   "cell_type": "markdown",
   "id": "07d95723",
   "metadata": {},
   "source": [
    "# Logistic Regression"
   ]
  },
  {
   "cell_type": "code",
   "execution_count": 19,
   "id": "988d5cbb",
   "metadata": {},
   "outputs": [],
   "source": [
    "# from sklearn.linear_model import LogisticRegression\n",
    "# from sklearn.metrics import accuracy_score\n",
    "# from sklearn.metrics import precision_score\n",
    "# from sklearn.metrics import confusion_matrix\n",
    "# from sklearn.preprocessing import StandardScaler\n",
    "# from sklearn.exceptions import ConvergenceWarning\n",
    "# from sklearn.model_selection import train_test_split\n",
    "# import warnings\n",
    "# from sklearn.model_selection import train_test_split\n",
    "\n",
    "# x = scaled_df.iloc[:,:-1]\n",
    "# y = booking_complete\n",
    "# x_train, x_test, y_train, y_test = train_test_split(x.to_numpy(),y.to_numpy(),test_size=0.20,random_state=42)\n",
    "# scaler = StandardScaler()\n",
    "# x_train = scaler.fit_transform(x_train)\n",
    "# x_test = scaler.transform(x_test)\n",
    "# with warnings.catch_warnings():\n",
    "#     warnings.filterwarnings(\"ignore\", category=ConvergenceWarning)\n",
    "#     lr = LogisticRegression(max_iter=1000, solver='lbfgs')\n",
    "#     lr.fit(x_train, y_train)\n",
    "# predictions = lr.predict(x_test)\n",
    "# confusion_mat=confusion_matrix(y_test,predictions)\n",
    "# accuracy=accuracy_score(y_test,predictions)\n",
    "# print(\"Accuracy:\", accuracy)\n",
    "# print(\"Confusion matrix:\\n\", confusion_mat)\n",
    "# from prettytable import PrettyTable\n",
    "# from sklearn.metrics import precision_recall_fscore_support\n",
    "# precision, recall, f1_score, support = precision_recall_fscore_support(y_test, predictions, zero_division=1)\n",
    "# precision, recall, f1_score, support\n",
    "\n",
    "# table = PrettyTable()\n",
    "# table.field_names = [\"Class\", \"Precision\", \"Recall\", \"F1-Score\", \"Support\"]\n",
    "\n",
    "# # add data to table\n",
    "# for i in range(len(support)):\n",
    "#     table.add_row([i, precision[i], recall[i], f1_score[i], support[i]])\n",
    "\n",
    "# # print table\n",
    "# print(table)"
   ]
  },
  {
   "cell_type": "markdown",
   "id": "e085105c",
   "metadata": {},
   "source": [
    "# Splitting Train and Test Data & Random Forest Classifier"
   ]
  },
  {
   "cell_type": "code",
   "execution_count": 20,
   "id": "90a4fcea",
   "metadata": {},
   "outputs": [],
   "source": [
    "from sklearn.model_selection import train_test_split\n",
    "x = scaled_df.iloc[:,:-1]\n",
    "y =booking_complete\n",
    "x_train, x_test, y_train, y_test = train_test_split(x.to_numpy(),y.to_numpy(),test_size=0.30,random_state=42)"
   ]
  },
  {
   "cell_type": "code",
   "execution_count": 21,
   "id": "4684fa2d",
   "metadata": {},
   "outputs": [],
   "source": [
    "from sklearn.ensemble import RandomForestClassifier\n",
    "from sklearn.metrics import accuracy_score\n",
    "from sklearn.metrics import f1_score\n",
    "from sklearn.metrics import precision_score\n",
    "from sklearn.metrics import recall_score\n",
    "from sklearn.inspection import permutation_importance\n",
    "\n",
    "from yellowbrick.classifier import ConfusionMatrix\n",
    "from sklearn.model_selection import GridSearchCV,  RepeatedStratifiedKFold"
   ]
  },
  {
   "cell_type": "code",
   "execution_count": 22,
   "id": "26bb1521",
   "metadata": {},
   "outputs": [],
   "source": [
    "def model_fit_predict(model, x, y, x_predict):\n",
    "    model.fit(x, y)\n",
    "    return model.predict(x_predict)\n",
    "\n",
    "def acc_score(y_true, y_pred):\n",
    "    return accuracy_score(y_true, y_pred)\n",
    "\n",
    "def pre_score(y_true, y_pred):\n",
    "    return precision_score(y_true, y_pred)\n",
    "\n",
    "def f_score(y_true, y_pred):\n",
    "    return f1_score(y_true, y_pred)"
   ]
  },
  {
   "cell_type": "code",
   "execution_count": 23,
   "id": "d83f888c",
   "metadata": {},
   "outputs": [],
   "source": [
    "#create an instance of the classifier and fit the training data\n",
    "clf_rf = RandomForestClassifier(max_depth =50 , min_samples_split=5,random_state=0)"
   ]
  },
  {
   "cell_type": "code",
   "execution_count": 24,
   "id": "733523df",
   "metadata": {},
   "outputs": [
    {
     "name": "stdout",
     "output_type": "stream",
     "text": [
      "Accuracy, precision and f1-score for training data are 0.93, 1.0 and 0.72 respectively\n"
     ]
    }
   ],
   "source": [
    "y_pred_train = model_fit_predict(clf_rf, x_train, y_train, x_train)\n",
    "set(y_pred_train)\n",
    "\n",
    "#f1 score for training data\n",
    "f1 = round(f1_score(y_train, y_pred_train),2) \n",
    "\n",
    "#accuracy score for training data\n",
    "acc = round(accuracy_score(y_train, y_pred_train),2) \n",
    "\n",
    "#precision score for training data\n",
    "pre = round(precision_score(y_train, y_pred_train),2) \n",
    "\n",
    "print(f\"Accuracy, precision and f1-score for training data are {acc}, {pre} and {f1} respectively\")"
   ]
  },
  {
   "cell_type": "code",
   "execution_count": 25,
   "id": "e2abc08b",
   "metadata": {},
   "outputs": [
    {
     "data": {
      "text/plain": [
       "0.9336674443388346"
      ]
     },
     "execution_count": 25,
     "metadata": {},
     "output_type": "execute_result"
    },
    {
     "data": {
      "image/png": "[encoded data removed]",
      "text/plain": [
       "<Figure size 576x396 with 1 Axes>"
      ]
     },
     "metadata": {},
     "output_type": "display_data"
    }
   ],
   "source": [
    "cm = ConfusionMatrix(clf_rf, classes=[0,1])\n",
    "cm.fit(x_train, y_train)\n",
    "cm.score(x_train, y_train)"
   ]
  },
  {
   "cell_type": "markdown",
   "id": "61cd1e17",
   "metadata": {},
   "source": [
    "# Checking Testing accuracy"
   ]
  },
  {
   "cell_type": "code",
   "execution_count": 26,
   "id": "a1a303fd",
   "metadata": {},
   "outputs": [
    {
     "name": "stdout",
     "output_type": "stream",
     "text": [
      "Accuracy, precision and f1-score for training data are 0.85, 0.48 and 0.06 respectively\n"
     ]
    }
   ],
   "source": [
    "#create an instance of the classifier and fit the training data\n",
    "clf_rf = RandomForestClassifier(max_depth =50 , min_samples_split=5,random_state=0)\n",
    "\n",
    "y_pred_test = model_fit_predict(clf_rf, x_train, y_train, x_test)\n",
    "\n",
    "#f1 score for training data\n",
    "f1 = round(f1_score(y_test, y_pred_test),2) \n",
    "\n",
    "#accuracy score for training data\n",
    "acc = round(accuracy_score(y_test, y_pred_test),2) \n",
    "\n",
    "#precision score for training data\n",
    "pre = round(precision_score(y_test, y_pred_test),2) \n",
    "\n",
    "print(f\"Accuracy, precision and f1-score for training data are {acc}, {pre} and {f1} respectively\")"
   ]
  },
  {
   "cell_type": "code",
   "execution_count": 27,
   "id": "cdb55bb0",
   "metadata": {},
   "outputs": [
    {
     "data": {
      "text/plain": [
       "0.8498655913978495"
      ]
     },
     "execution_count": 27,
     "metadata": {},
     "output_type": "execute_result"
    },
    {
     "data": {
      "image/png": "[encoded data removed]",
      "text/plain": [
       "<Figure size 576x396 with 1 Axes>"
      ]
     },
     "metadata": {},
     "output_type": "display_data"
    }
   ],
   "source": [
    "cm = ConfusionMatrix(clf_rf, classes=[0,1])\n",
    "cm.fit(x_train, y_train)\n",
    "cm.score(x_test, y_test)"
   ]
  },
  {
   "cell_type": "code",
   "execution_count": 28,
   "id": "2c133eda",
   "metadata": {
    "scrolled": true
   },
   "outputs": [
    {
     "data": {
      "text/plain": [
       "Text(0.5, 0, 'Random Forest Feature Importance')"
      ]
     },
     "execution_count": 28,
     "metadata": {},
     "output_type": "execute_result"
    },
    {
     "data": {
      "image/png": "[encoded data removed]",
      "text/plain": [
       "<Figure size 720x360 with 1 Axes>"
      ]
     },
     "metadata": {},
     "output_type": "display_data"
    }
   ],
   "source": [
    "plt.figure(figsize=(10,5))\n",
    "sorted_idx = clf_rf.feature_importances_.argsort()\n",
    "plt.barh(scaled_df.iloc[:,:-1].columns[sorted_idx], clf_rf.feature_importances_[sorted_idx])\n",
    "plt.xlabel(\"Random Forest Feature Importance\")"
   ]
  },
  {
   "cell_type": "markdown",
   "id": "aca5fe54",
   "metadata": {},
   "source": [
    "One significant reason for a low F1 score is an imbalanced dataset. We have more entries categorized as 0 than 1. We could reduce the number of entries classified as 0 to be roughly equal to the number of entries categorized as 1."
   ]
  },
  {
   "cell_type": "markdown",
   "id": "936fd5ea",
   "metadata": {},
   "source": [
    "# Balancing the dataset"
   ]
  },
  {
   "cell_type": "code",
   "execution_count": 29,
   "id": "6e564d0e",
   "metadata": {},
   "outputs": [
    {
     "data": {
      "text/plain": [
       "0    42169\n",
       "1     7430\n",
       "Name: booking_complete, dtype: int64"
      ]
     },
     "execution_count": 29,
     "metadata": {},
     "output_type": "execute_result"
    }
   ],
   "source": [
    "scaled_df.booking_complete.value_counts()"
   ]
  },
  {
   "cell_type": "code",
   "execution_count": 30,
   "id": "d9d59590",
   "metadata": {},
   "outputs": [],
   "source": [
    "#create a dataframe having all booking_complete 0 with 10000 samples\n",
    "scaled_df_0 = scaled_df[scaled_df.booking_complete ==0].sample(n=7000)"
   ]
  },
  {
   "cell_type": "code",
   "execution_count": 31,
   "id": "fe96627a",
   "metadata": {},
   "outputs": [],
   "source": [
    "#concatenate the two dataframee, one havng all labels 0 and other having all labels as 1\n",
    "scaled_df_new = pd.concat([scaled_df[scaled_df.booking_complete==1], scaled_df_0], ignore_index=True)"
   ]
  },
  {
   "cell_type": "code",
   "execution_count": 32,
   "id": "2784507e",
   "metadata": {
    "scrolled": true
   },
   "outputs": [],
   "source": [
    "#shuffle the dataframe rows\n",
    "scaled_df_new = scaled_df_new.sample(frac = 1).reset_index(drop=True)"
   ]
  },
  {
   "cell_type": "code",
   "execution_count": 33,
   "id": "68d32514",
   "metadata": {},
   "outputs": [
    {
     "data": {
      "text/html": [
       "<div>\n",
       "<style scoped>\n",
       "    .dataframe tbody tr th:only-of-type {\n",
       "        vertical-align: middle;\n",
       "    }\n",
       "\n",
       "    .dataframe tbody tr th {\n",
       "        vertical-align: top;\n",
       "    }\n",
       "\n",
       "    .dataframe thead th {\n",
       "        text-align: right;\n",
       "    }\n",
       "</style>\n",
       "<table border=\"1\" class=\"dataframe\">\n",
       "  <thead>\n",
       "    <tr style=\"text-align: right;\">\n",
       "      <th></th>\n",
       "      <th>num_passengers</th>\n",
       "      <th>purchase_lead</th>\n",
       "      <th>length_of_stay</th>\n",
       "      <th>flight_hour</th>\n",
       "      <th>flight_day</th>\n",
       "      <th>wants_extra_baggage</th>\n",
       "      <th>wants_preferred_seat</th>\n",
       "      <th>wants_in_flight_meals</th>\n",
       "      <th>flight_duration</th>\n",
       "      <th>Internet</th>\n",
       "      <th>Mobile</th>\n",
       "      <th>RoundTRip</th>\n",
       "      <th>OneWayTrip</th>\n",
       "      <th>CircleTrip</th>\n",
       "      <th>booking_complete</th>\n",
       "    </tr>\n",
       "  </thead>\n",
       "  <tbody>\n",
       "    <tr>\n",
       "      <th>0</th>\n",
       "      <td>-0.576788</td>\n",
       "      <td>-0.482515</td>\n",
       "      <td>-0.563877</td>\n",
       "      <td>-0.196171</td>\n",
       "      <td>-0.911623</td>\n",
       "      <td>0.701469</td>\n",
       "      <td>-0.651302</td>\n",
       "      <td>-0.865430</td>\n",
       "      <td>-0.439039</td>\n",
       "      <td>0.355679</td>\n",
       "      <td>-0.355679</td>\n",
       "      <td>0.101117</td>\n",
       "      <td>-0.048417</td>\n",
       "      <td>-0.088563</td>\n",
       "      <td>1</td>\n",
       "    </tr>\n",
       "    <tr>\n",
       "      <th>1</th>\n",
       "      <td>-0.576788</td>\n",
       "      <td>-0.658249</td>\n",
       "      <td>-0.563877</td>\n",
       "      <td>0.728531</td>\n",
       "      <td>1.099679</td>\n",
       "      <td>0.701469</td>\n",
       "      <td>-0.651302</td>\n",
       "      <td>-0.865430</td>\n",
       "      <td>-0.185440</td>\n",
       "      <td>0.355679</td>\n",
       "      <td>-0.355679</td>\n",
       "      <td>0.101117</td>\n",
       "      <td>-0.048417</td>\n",
       "      <td>-0.088563</td>\n",
       "      <td>1</td>\n",
       "    </tr>\n",
       "    <tr>\n",
       "      <th>2</th>\n",
       "      <td>-0.576788</td>\n",
       "      <td>-0.951140</td>\n",
       "      <td>-0.063385</td>\n",
       "      <td>-0.935934</td>\n",
       "      <td>1.602505</td>\n",
       "      <td>0.701469</td>\n",
       "      <td>-0.651302</td>\n",
       "      <td>-0.865430</td>\n",
       "      <td>-1.687009</td>\n",
       "      <td>0.355679</td>\n",
       "      <td>-0.355679</td>\n",
       "      <td>0.101117</td>\n",
       "      <td>-0.048417</td>\n",
       "      <td>-0.088563</td>\n",
       "      <td>0</td>\n",
       "    </tr>\n",
       "    <tr>\n",
       "      <th>3</th>\n",
       "      <td>-0.576788</td>\n",
       "      <td>-0.904277</td>\n",
       "      <td>-0.622758</td>\n",
       "      <td>-0.011231</td>\n",
       "      <td>1.602505</td>\n",
       "      <td>-1.425580</td>\n",
       "      <td>-0.651302</td>\n",
       "      <td>-0.865430</td>\n",
       "      <td>-0.185440</td>\n",
       "      <td>-2.811524</td>\n",
       "      <td>2.811524</td>\n",
       "      <td>0.101117</td>\n",
       "      <td>-0.048417</td>\n",
       "      <td>-0.088563</td>\n",
       "      <td>0</td>\n",
       "    </tr>\n",
       "    <tr>\n",
       "      <th>4</th>\n",
       "      <td>-0.576788</td>\n",
       "      <td>-0.587955</td>\n",
       "      <td>-0.151707</td>\n",
       "      <td>0.543591</td>\n",
       "      <td>-0.911623</td>\n",
       "      <td>-1.425580</td>\n",
       "      <td>1.535386</td>\n",
       "      <td>-0.865430</td>\n",
       "      <td>-1.106403</td>\n",
       "      <td>0.355679</td>\n",
       "      <td>-0.355679</td>\n",
       "      <td>0.101117</td>\n",
       "      <td>-0.048417</td>\n",
       "      <td>-0.088563</td>\n",
       "      <td>1</td>\n",
       "    </tr>\n",
       "    <tr>\n",
       "      <th>...</th>\n",
       "      <td>...</td>\n",
       "      <td>...</td>\n",
       "      <td>...</td>\n",
       "      <td>...</td>\n",
       "      <td>...</td>\n",
       "      <td>...</td>\n",
       "      <td>...</td>\n",
       "      <td>...</td>\n",
       "      <td>...</td>\n",
       "      <td>...</td>\n",
       "      <td>...</td>\n",
       "      <td>...</td>\n",
       "      <td>...</td>\n",
       "      <td>...</td>\n",
       "      <td>...</td>\n",
       "    </tr>\n",
       "    <tr>\n",
       "      <th>14425</th>\n",
       "      <td>-0.576788</td>\n",
       "      <td>-0.716827</td>\n",
       "      <td>1.820820</td>\n",
       "      <td>-0.381112</td>\n",
       "      <td>-0.911623</td>\n",
       "      <td>0.701469</td>\n",
       "      <td>-0.651302</td>\n",
       "      <td>-0.865430</td>\n",
       "      <td>1.035836</td>\n",
       "      <td>0.355679</td>\n",
       "      <td>-0.355679</td>\n",
       "      <td>0.101117</td>\n",
       "      <td>-0.048417</td>\n",
       "      <td>-0.088563</td>\n",
       "      <td>1</td>\n",
       "    </tr>\n",
       "    <tr>\n",
       "      <th>14426</th>\n",
       "      <td>-0.576788</td>\n",
       "      <td>-0.107615</td>\n",
       "      <td>-0.004503</td>\n",
       "      <td>-0.566053</td>\n",
       "      <td>0.094028</td>\n",
       "      <td>0.701469</td>\n",
       "      <td>-0.651302</td>\n",
       "      <td>-0.865430</td>\n",
       "      <td>0.868995</td>\n",
       "      <td>0.355679</td>\n",
       "      <td>-0.355679</td>\n",
       "      <td>0.101117</td>\n",
       "      <td>-0.048417</td>\n",
       "      <td>-0.088563</td>\n",
       "      <td>0</td>\n",
       "    </tr>\n",
       "    <tr>\n",
       "      <th>14427</th>\n",
       "      <td>-0.576788</td>\n",
       "      <td>-0.927708</td>\n",
       "      <td>-0.593318</td>\n",
       "      <td>2.392997</td>\n",
       "      <td>-0.408797</td>\n",
       "      <td>0.701469</td>\n",
       "      <td>-0.651302</td>\n",
       "      <td>-0.865430</td>\n",
       "      <td>-1.740399</td>\n",
       "      <td>0.355679</td>\n",
       "      <td>-0.355679</td>\n",
       "      <td>0.101117</td>\n",
       "      <td>-0.048417</td>\n",
       "      <td>-0.088563</td>\n",
       "      <td>1</td>\n",
       "    </tr>\n",
       "    <tr>\n",
       "      <th>14428</th>\n",
       "      <td>-0.576788</td>\n",
       "      <td>-0.787121</td>\n",
       "      <td>0.142700</td>\n",
       "      <td>-0.381112</td>\n",
       "      <td>1.602505</td>\n",
       "      <td>-1.425580</td>\n",
       "      <td>-0.651302</td>\n",
       "      <td>-0.865430</td>\n",
       "      <td>1.035836</td>\n",
       "      <td>0.355679</td>\n",
       "      <td>-0.355679</td>\n",
       "      <td>0.101117</td>\n",
       "      <td>-0.048417</td>\n",
       "      <td>-0.088563</td>\n",
       "      <td>1</td>\n",
       "    </tr>\n",
       "    <tr>\n",
       "      <th>14429</th>\n",
       "      <td>-0.576788</td>\n",
       "      <td>-0.798836</td>\n",
       "      <td>-0.534436</td>\n",
       "      <td>0.173710</td>\n",
       "      <td>0.094028</td>\n",
       "      <td>-1.425580</td>\n",
       "      <td>1.535386</td>\n",
       "      <td>1.155495</td>\n",
       "      <td>0.194957</td>\n",
       "      <td>0.355679</td>\n",
       "      <td>-0.355679</td>\n",
       "      <td>0.101117</td>\n",
       "      <td>-0.048417</td>\n",
       "      <td>-0.088563</td>\n",
       "      <td>1</td>\n",
       "    </tr>\n",
       "  </tbody>\n",
       "</table>\n",
       "<p>14430 rows × 15 columns</p>\n",
       "</div>"
      ],
      "text/plain": [
       "       num_passengers  purchase_lead  length_of_stay  flight_hour  flight_day  \\\n",
       "0           -0.576788      -0.482515       -0.563877    -0.196171   -0.911623   \n",
       "1           -0.576788      -0.658249       -0.563877     0.728531    1.099679   \n",
       "2           -0.576788      -0.951140       -0.063385    -0.935934    1.602505   \n",
       "3           -0.576788      -0.904277       -0.622758    -0.011231    1.602505   \n",
       "4           -0.576788      -0.587955       -0.151707     0.543591   -0.911623   \n",
       "...               ...            ...             ...          ...         ...   \n",
       "14425       -0.576788      -0.716827        1.820820    -0.381112   -0.911623   \n",
       "14426       -0.576788      -0.107615       -0.004503    -0.566053    0.094028   \n",
       "14427       -0.576788      -0.927708       -0.593318     2.392997   -0.408797   \n",
       "14428       -0.576788      -0.787121        0.142700    -0.381112    1.602505   \n",
       "14429       -0.576788      -0.798836       -0.534436     0.173710    0.094028   \n",
       "\n",
       "       wants_extra_baggage  wants_preferred_seat  wants_in_flight_meals  \\\n",
       "0                 0.701469             -0.651302              -0.865430   \n",
       "1                 0.701469             -0.651302              -0.865430   \n",
       "2                 0.701469             -0.651302              -0.865430   \n",
       "3                -1.425580             -0.651302              -0.865430   \n",
       "4                -1.425580              1.535386              -0.865430   \n",
       "...                    ...                   ...                    ...   \n",
       "14425             0.701469             -0.651302              -0.865430   \n",
       "14426             0.701469             -0.651302              -0.865430   \n",
       "14427             0.701469             -0.651302              -0.865430   \n",
       "14428            -1.425580             -0.651302              -0.865430   \n",
       "14429            -1.425580              1.535386               1.155495   \n",
       "\n",
       "       flight_duration  Internet    Mobile  RoundTRip  OneWayTrip  CircleTrip  \\\n",
       "0            -0.439039  0.355679 -0.355679   0.101117   -0.048417   -0.088563   \n",
       "1            -0.185440  0.355679 -0.355679   0.101117   -0.048417   -0.088563   \n",
       "2            -1.687009  0.355679 -0.355679   0.101117   -0.048417   -0.088563   \n",
       "3            -0.185440 -2.811524  2.811524   0.101117   -0.048417   -0.088563   \n",
       "4            -1.106403  0.355679 -0.355679   0.101117   -0.048417   -0.088563   \n",
       "...                ...       ...       ...        ...         ...         ...   \n",
       "14425         1.035836  0.355679 -0.355679   0.101117   -0.048417   -0.088563   \n",
       "14426         0.868995  0.355679 -0.355679   0.101117   -0.048417   -0.088563   \n",
       "14427        -1.740399  0.355679 -0.355679   0.101117   -0.048417   -0.088563   \n",
       "14428         1.035836  0.355679 -0.355679   0.101117   -0.048417   -0.088563   \n",
       "14429         0.194957  0.355679 -0.355679   0.101117   -0.048417   -0.088563   \n",
       "\n",
       "       booking_complete  \n",
       "0                     1  \n",
       "1                     1  \n",
       "2                     0  \n",
       "3                     0  \n",
       "4                     1  \n",
       "...                 ...  \n",
       "14425                 1  \n",
       "14426                 0  \n",
       "14427                 1  \n",
       "14428                 1  \n",
       "14429                 1  \n",
       "\n",
       "[14430 rows x 15 columns]"
      ]
     },
     "execution_count": 33,
     "metadata": {},
     "output_type": "execute_result"
    }
   ],
   "source": [
    "scaled_df_new"
   ]
  },
  {
   "cell_type": "code",
   "execution_count": 34,
   "id": "d2a3a6fe",
   "metadata": {},
   "outputs": [],
   "source": [
    "X = scaled_df_new.iloc[:,:-1]\n",
    "y = scaled_df_new['booking_complete']\n",
    "\n",
    "X_train, X_test, y_train, y_test = train_test_split(X.to_numpy(), y.to_numpy(), test_size=0.20, random_state=42)"
   ]
  },
  {
   "cell_type": "code",
   "execution_count": 35,
   "id": "1e28d5e8",
   "metadata": {},
   "outputs": [],
   "source": [
    "#create an instance of the classifier and fit the training data\n",
    "clf_rf = RandomForestClassifier(n_estimators=50,max_depth =50 , min_samples_split=5,random_state=0)"
   ]
  },
  {
   "cell_type": "code",
   "execution_count": 36,
   "id": "1d66cefc",
   "metadata": {},
   "outputs": [
    {
     "name": "stdout",
     "output_type": "stream",
     "text": [
      "Accuracy, precision, recall and f1-score for training data are 0.63, 0.65, 0.64, 0.62 and 0.65 respectively\n"
     ]
    }
   ],
   "source": [
    "y_pred_test = model_fit_predict(clf_rf, X_train, y_train, X_test)\n",
    "\n",
    "#f1 score for training data\n",
    "f1 = round(f1_score(y_test, y_pred_test),2) \n",
    "\n",
    "#accuracy score for training data\n",
    "acc = round(accuracy_score(y_test, y_pred_test),2) \n",
    "\n",
    "#precision score for training data\n",
    "pre = round(precision_score(y_test, y_pred_test),2) \n",
    "\n",
    "recall = round(recall_score(y_test, y_pred_test),2)\n",
    "\n",
    "specificity = round(recall_score(y_test, y_pred_test, pos_label=0),2)\n",
    "\n",
    "print(f\"Accuracy, precision, recall and f1-score for training data are {acc}, {pre}, {recall}, {specificity} and {f1} respectively\") "
   ]
  },
  {
   "cell_type": "code",
   "execution_count": 37,
   "id": "aab727e5",
   "metadata": {},
   "outputs": [
    {
     "data": {
      "text/plain": [
       "0.6337491337491338"
      ]
     },
     "execution_count": 37,
     "metadata": {},
     "output_type": "execute_result"
    },
    {
     "data": {
      "image/png": "[encoded data removed]",
      "text/plain": [
       "<Figure size 576x396 with 1 Axes>"
      ]
     },
     "metadata": {},
     "output_type": "display_data"
    }
   ],
   "source": [
    "cm = ConfusionMatrix(clf_rf, classes=[0,1])\n",
    "cm.fit(X_train, y_train)\n",
    "cm.score(X_test, y_test)"
   ]
  },
  {
   "cell_type": "code",
   "execution_count": 38,
   "id": "24cf7e52",
   "metadata": {},
   "outputs": [
    {
     "data": {
      "image/png": "[encoded data removed]",
      "text/plain": [
       "<Figure size 720x576 with 1 Axes>"
      ]
     },
     "metadata": {},
     "output_type": "display_data"
    }
   ],
   "source": [
    "plt.figure(figsize=(10,8))\n",
    "sorted_idx = clf_rf.feature_importances_.argsort()\n",
    "plt.barh(scaled_df.iloc[:,:-1].columns[sorted_idx], clf_rf.feature_importances_[sorted_idx])\n",
    "plt.xlabel(\"Random Forest Feature Importance\")\n",
    "plt.title(\"Feature Importances in Random Forest Model\")\n",
    "plt.savefig('Feature Importances in Random Forest Model', dpi=300, bbox_inches='tight')\n",
    "plt.show()"
   ]
  },
  {
   "cell_type": "code",
   "execution_count": null,
   "id": "2af0b7d0",
   "metadata": {},
   "outputs": [],
   "source": []
  }
 ],
 "metadata": {
  "kernelspec": {
   "display_name": "Python 3 (ipykernel)",
   "language": "python",
   "name": "python3"
  },
  "language_info": {
   "codemirror_mode": {
    "name": "ipython",
    "version": 3
   },
   "file_extension": ".py",
   "mimetype": "text/x-python",
   "name": "python",
   "nbconvert_exporter": "python",
   "pygments_lexer": "ipython3",
   "version": "3.9.7"
  }
 },
 "nbformat": 4,
 "nbformat_minor": 5
}
