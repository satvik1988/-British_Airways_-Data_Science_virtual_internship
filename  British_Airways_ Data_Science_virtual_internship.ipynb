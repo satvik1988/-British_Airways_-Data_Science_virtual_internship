{
 "cells": [
  {
   "cell_type": "markdown",
   "id": "de37b414",
   "metadata": {},
   "source": [
    "# Data Collection"
   ]
  },
  {
   "cell_type": "markdown",
   "id": "fcb454b5",
   "metadata": {},
   "source": [
    "Collecting the data from the airline website [Skytrax](https://www.airlinequality.com/airport-reviews/auckland-airport/). I collected the data about airline rating, seat ratings and \n",
    "lounge experience rating."
   ]
  },
  {
   "cell_type": "code",
   "execution_count": 1,
   "id": "6a57daec",
   "metadata": {},
   "outputs": [],
   "source": [
    "#Imports\n",
    "import pandas as pd\n",
    "import numpy as np\n",
    "from bs4 import BeautifulSoup\n",
    "import requests"
   ]
  },
  {
   "cell_type": "code",
   "execution_count": 2,
   "id": "bb0e2ceb",
   "metadata": {},
   "outputs": [],
   "source": [
    "#Create emplty list to collect all reviews, rating stars, collect data, review from  the countries\n",
    "reviews = []\n",
    "stars = []\n",
    "date = []\n",
    "country = []"
   ]
  },
  {
   "cell_type": "code",
   "execution_count": 3,
   "id": "bb58c1fb",
   "metadata": {},
   "outputs": [
    {
     "name": "stdout",
     "output_type": "stream",
     "text": [
      "Error on page 30\n",
      "Error on page 31\n",
      "Error on page 31\n",
      "Error on page 33\n",
      "Error on page 34\n"
     ]
    }
   ],
   "source": [
    "for i in range(1, 100):\n",
    "    page = requests.get(f\"https://www.airlinequality.com/airline-reviews/british-airways/page/{i}/?sortby=post_date%3ADesc&pagesize=100\")\n",
    "    \n",
    "    soup = BeautifulSoup(page.content, \"html5\")\n",
    "    \n",
    "    for item in soup.find_all(\"div\", class_=\"text_content\"):\n",
    "        reviews.append(item.text)\n",
    "    \n",
    "    for item in soup.find_all(\"div\", class_ = \"rating-10\"):\n",
    "        try:\n",
    "            stars.append(item.span.text)\n",
    "        except:\n",
    "            print(f\"Error on page {i}\")\n",
    "            stars.append(\"None\")\n",
    "            \n",
    "    #date\n",
    "    for item in soup.find_all(\"time\"):\n",
    "        date.append(item.text)\n",
    "        \n",
    "    #country\n",
    "    for item in soup.find_all(\"h3\"):\n",
    "        country.append(item.span.next_sibling.text.strip(\" ()\"))"
   ]
  },
  {
   "cell_type": "code",
   "execution_count": 4,
   "id": "47f10e90",
   "metadata": {},
   "outputs": [
    {
     "data": {
      "text/plain": [
       "3482"
      ]
     },
     "execution_count": 4,
     "metadata": {},
     "output_type": "execute_result"
    }
   ],
   "source": [
    "len(reviews)"
   ]
  },
  {
   "cell_type": "code",
   "execution_count": 5,
   "id": "c188c609",
   "metadata": {},
   "outputs": [
    {
     "data": {
      "text/plain": [
       "3482"
      ]
     },
     "execution_count": 5,
     "metadata": {},
     "output_type": "execute_result"
    }
   ],
   "source": [
    "len(country)"
   ]
  },
  {
   "cell_type": "code",
   "execution_count": 6,
   "id": "225356ec",
   "metadata": {
    "scrolled": true
   },
   "outputs": [
    {
     "data": {
      "text/plain": [
       "3482"
      ]
     },
     "execution_count": 6,
     "metadata": {},
     "output_type": "execute_result"
    }
   ],
   "source": [
    "len(date)"
   ]
  },
  {
   "cell_type": "code",
   "execution_count": 7,
   "id": "0d8c18fd",
   "metadata": {},
   "outputs": [
    {
     "data": {
      "text/plain": [
       "3482"
      ]
     },
     "execution_count": 7,
     "metadata": {},
     "output_type": "execute_result"
    }
   ],
   "source": [
    "len(country)"
   ]
  },
  {
   "cell_type": "code",
   "execution_count": 8,
   "id": "a54ec002",
   "metadata": {
    "scrolled": true
   },
   "outputs": [
    {
     "data": {
      "text/plain": [
       "3581"
      ]
     },
     "execution_count": 8,
     "metadata": {},
     "output_type": "execute_result"
    }
   ],
   "source": [
    "len(stars)\n"
   ]
  },
  {
   "cell_type": "code",
   "execution_count": 9,
   "id": "5794b3cd",
   "metadata": {},
   "outputs": [],
   "source": [
    "# All arrays must be of the same length\n",
    "stars=stars[:3482]"
   ]
  },
  {
   "cell_type": "code",
   "execution_count": 10,
   "id": "35ac73f0",
   "metadata": {},
   "outputs": [],
   "source": [
    "BA = pd.DataFrame({\"reviews\":reviews,\"stars\":stars,\"date\":date,\"country\":country})"
   ]
  },
  {
   "cell_type": "code",
   "execution_count": 11,
   "id": "89f89122",
   "metadata": {},
   "outputs": [
    {
     "data": {
      "text/html": [
       "<div>\n",
       "<style scoped>\n",
       "    .dataframe tbody tr th:only-of-type {\n",
       "        vertical-align: middle;\n",
       "    }\n",
       "\n",
       "    .dataframe tbody tr th {\n",
       "        vertical-align: top;\n",
       "    }\n",
       "\n",
       "    .dataframe thead th {\n",
       "        text-align: right;\n",
       "    }\n",
       "</style>\n",
       "<table border=\"1\" class=\"dataframe\">\n",
       "  <thead>\n",
       "    <tr style=\"text-align: right;\">\n",
       "      <th></th>\n",
       "      <th>reviews</th>\n",
       "      <th>stars</th>\n",
       "      <th>date</th>\n",
       "      <th>country</th>\n",
       "    </tr>\n",
       "  </thead>\n",
       "  <tbody>\n",
       "    <tr>\n",
       "      <th>0</th>\n",
       "      <td>✅ Trip Verified |  First our morning flight wa...</td>\n",
       "      <td>\\n\\t\\t\\t\\t\\t\\t\\t\\t\\t\\t\\t\\t\\t5</td>\n",
       "      <td>28th February 2023</td>\n",
       "      <td>Canada</td>\n",
       "    </tr>\n",
       "    <tr>\n",
       "      <th>1</th>\n",
       "      <td>✅ Trip Verified |  Although it was a bit uncom...</td>\n",
       "      <td>1</td>\n",
       "      <td>27th February 2023</td>\n",
       "      <td>United Kingdom</td>\n",
       "    </tr>\n",
       "    <tr>\n",
       "      <th>2</th>\n",
       "      <td>✅ Trip Verified |  Boarding was decently organ...</td>\n",
       "      <td>8</td>\n",
       "      <td>27th February 2023</td>\n",
       "      <td>Belgium</td>\n",
       "    </tr>\n",
       "  </tbody>\n",
       "</table>\n",
       "</div>"
      ],
      "text/plain": [
       "                                             reviews  \\\n",
       "0  ✅ Trip Verified |  First our morning flight wa...   \n",
       "1  ✅ Trip Verified |  Although it was a bit uncom...   \n",
       "2  ✅ Trip Verified |  Boarding was decently organ...   \n",
       "\n",
       "                           stars                date         country  \n",
       "0  \\n\\t\\t\\t\\t\\t\\t\\t\\t\\t\\t\\t\\t\\t5  28th February 2023          Canada  \n",
       "1                              1  27th February 2023  United Kingdom  \n",
       "2                              8  27th February 2023         Belgium  "
      ]
     },
     "execution_count": 11,
     "metadata": {},
     "output_type": "execute_result"
    }
   ],
   "source": [
    "BA.head(3)"
   ]
  },
  {
   "cell_type": "code",
   "execution_count": 12,
   "id": "b95f80c1",
   "metadata": {},
   "outputs": [
    {
     "data": {
      "text/plain": [
       "(3482, 4)"
      ]
     },
     "execution_count": 12,
     "metadata": {},
     "output_type": "execute_result"
    }
   ],
   "source": [
    "BA.shape"
   ]
  },
  {
   "cell_type": "code",
   "execution_count": 13,
   "id": "a0251303",
   "metadata": {},
   "outputs": [],
   "source": [
    "#Exporting Data\n",
    "import os\n",
    "cwd = os.getcwd()  #The CWD is the directory from which the Python script is being executed.\n",
    "BA.to_csv(cwd + \"/BA_reviews.csv\")"
   ]
  },
  {
   "cell_type": "markdown",
   "id": "f063f898",
   "metadata": {},
   "source": [
    "# Data Cleaning"
   ]
  },
  {
   "cell_type": "code",
   "execution_count": 14,
   "id": "e4ee74a0",
   "metadata": {},
   "outputs": [],
   "source": [
    "import re"
   ]
  },
  {
   "cell_type": "markdown",
   "id": "f3c75321",
   "metadata": {},
   "source": [
    "1.import re is a Python statement that imports the re module. The re module is a built-in module in Python that provides support for regular expressions. Regular expressions are a powerful way of pattern matching and manipulating text.\n",
    "\n",
    "2.Once the re module is imported, you can use its functions and classes to perform various operations on strings, such as searching for patterns, replacing text, splitting strings, and more."
   ]
  },
  {
   "cell_type": "code",
   "execution_count": 15,
   "id": "a7920b90",
   "metadata": {},
   "outputs": [],
   "source": [
    "BA = pd.read_csv(cwd + \"/BA_reviews.csv\", index_col=0)"
   ]
  },
  {
   "cell_type": "code",
   "execution_count": 16,
   "id": "d79788ee",
   "metadata": {},
   "outputs": [
    {
     "data": {
      "text/html": [
       "<div>\n",
       "<style scoped>\n",
       "    .dataframe tbody tr th:only-of-type {\n",
       "        vertical-align: middle;\n",
       "    }\n",
       "\n",
       "    .dataframe tbody tr th {\n",
       "        vertical-align: top;\n",
       "    }\n",
       "\n",
       "    .dataframe thead th {\n",
       "        text-align: right;\n",
       "    }\n",
       "</style>\n",
       "<table border=\"1\" class=\"dataframe\">\n",
       "  <thead>\n",
       "    <tr style=\"text-align: right;\">\n",
       "      <th></th>\n",
       "      <th>reviews</th>\n",
       "      <th>stars</th>\n",
       "      <th>date</th>\n",
       "      <th>country</th>\n",
       "    </tr>\n",
       "  </thead>\n",
       "  <tbody>\n",
       "    <tr>\n",
       "      <th>0</th>\n",
       "      <td>✅ Trip Verified |  First our morning flight wa...</td>\n",
       "      <td>\\n\\t\\t\\t\\t\\t\\t\\t\\t\\t\\t\\t\\t\\t5</td>\n",
       "      <td>28th February 2023</td>\n",
       "      <td>Canada</td>\n",
       "    </tr>\n",
       "    <tr>\n",
       "      <th>1</th>\n",
       "      <td>✅ Trip Verified |  Although it was a bit uncom...</td>\n",
       "      <td>1</td>\n",
       "      <td>27th February 2023</td>\n",
       "      <td>United Kingdom</td>\n",
       "    </tr>\n",
       "    <tr>\n",
       "      <th>2</th>\n",
       "      <td>✅ Trip Verified |  Boarding was decently organ...</td>\n",
       "      <td>8</td>\n",
       "      <td>27th February 2023</td>\n",
       "      <td>Belgium</td>\n",
       "    </tr>\n",
       "  </tbody>\n",
       "</table>\n",
       "</div>"
      ],
      "text/plain": [
       "                                             reviews  \\\n",
       "0  ✅ Trip Verified |  First our morning flight wa...   \n",
       "1  ✅ Trip Verified |  Although it was a bit uncom...   \n",
       "2  ✅ Trip Verified |  Boarding was decently organ...   \n",
       "\n",
       "                           stars                date         country  \n",
       "0  \\n\\t\\t\\t\\t\\t\\t\\t\\t\\t\\t\\t\\t\\t5  28th February 2023          Canada  \n",
       "1                              1  27th February 2023  United Kingdom  \n",
       "2                              8  27th February 2023         Belgium  "
      ]
     },
     "execution_count": 16,
     "metadata": {},
     "output_type": "execute_result"
    }
   ],
   "source": [
    "BA.head(3)"
   ]
  },
  {
   "cell_type": "code",
   "execution_count": 17,
   "id": "f8423458",
   "metadata": {},
   "outputs": [],
   "source": [
    "BA['verified'] = BA.reviews.str.contains(\"Trip Verified\")"
   ]
  },
  {
   "cell_type": "code",
   "execution_count": 18,
   "id": "a93ff8b4",
   "metadata": {
    "scrolled": false
   },
   "outputs": [
    {
     "data": {
      "text/html": [
       "<div>\n",
       "<style scoped>\n",
       "    .dataframe tbody tr th:only-of-type {\n",
       "        vertical-align: middle;\n",
       "    }\n",
       "\n",
       "    .dataframe tbody tr th {\n",
       "        vertical-align: top;\n",
       "    }\n",
       "\n",
       "    .dataframe thead th {\n",
       "        text-align: right;\n",
       "    }\n",
       "</style>\n",
       "<table border=\"1\" class=\"dataframe\">\n",
       "  <thead>\n",
       "    <tr style=\"text-align: right;\">\n",
       "      <th></th>\n",
       "      <th>reviews</th>\n",
       "      <th>stars</th>\n",
       "      <th>date</th>\n",
       "      <th>country</th>\n",
       "      <th>verified</th>\n",
       "    </tr>\n",
       "  </thead>\n",
       "  <tbody>\n",
       "    <tr>\n",
       "      <th>0</th>\n",
       "      <td>✅ Trip Verified |  First our morning flight wa...</td>\n",
       "      <td>\\n\\t\\t\\t\\t\\t\\t\\t\\t\\t\\t\\t\\t\\t5</td>\n",
       "      <td>28th February 2023</td>\n",
       "      <td>Canada</td>\n",
       "      <td>True</td>\n",
       "    </tr>\n",
       "    <tr>\n",
       "      <th>1</th>\n",
       "      <td>✅ Trip Verified |  Although it was a bit uncom...</td>\n",
       "      <td>1</td>\n",
       "      <td>27th February 2023</td>\n",
       "      <td>United Kingdom</td>\n",
       "      <td>True</td>\n",
       "    </tr>\n",
       "    <tr>\n",
       "      <th>2</th>\n",
       "      <td>✅ Trip Verified |  Boarding was decently organ...</td>\n",
       "      <td>8</td>\n",
       "      <td>27th February 2023</td>\n",
       "      <td>Belgium</td>\n",
       "      <td>True</td>\n",
       "    </tr>\n",
       "  </tbody>\n",
       "</table>\n",
       "</div>"
      ],
      "text/plain": [
       "                                             reviews  \\\n",
       "0  ✅ Trip Verified |  First our morning flight wa...   \n",
       "1  ✅ Trip Verified |  Although it was a bit uncom...   \n",
       "2  ✅ Trip Verified |  Boarding was decently organ...   \n",
       "\n",
       "                           stars                date         country  verified  \n",
       "0  \\n\\t\\t\\t\\t\\t\\t\\t\\t\\t\\t\\t\\t\\t5  28th February 2023          Canada      True  \n",
       "1                              1  27th February 2023  United Kingdom      True  \n",
       "2                              8  27th February 2023         Belgium      True  "
      ]
     },
     "execution_count": 18,
     "metadata": {},
     "output_type": "execute_result"
    }
   ],
   "source": [
    "BA.head(3)"
   ]
  },
  {
   "cell_type": "markdown",
   "id": "0b4c4250",
   "metadata": {},
   "source": [
    "#.strip() is a string method in Python that removes a set of characters from the beginning and end of a string"
   ]
  },
  {
   "cell_type": "code",
   "execution_count": 19,
   "id": "f73f4202",
   "metadata": {
    "scrolled": true
   },
   "outputs": [],
   "source": [
    "reviews_data = BA.reviews.str.strip(\"✅ Trip Verified |\") "
   ]
  },
  {
   "cell_type": "code",
   "execution_count": 20,
   "id": "8517b5d6",
   "metadata": {},
   "outputs": [],
   "source": [
    "#create an empty list to collect cleaned data corpus\n",
    "corpus =[]\n",
    "\n",
    "#loop through each review, remove punctuations, small case it, join it and add it to corpus\n",
    "for rev in reviews_data:\n",
    "    rev = re.sub('[^a-zA-Z]',' ', rev)\n",
    "    rev = rev.lower()\n",
    "    rev = rev.split()\n",
    "    rev = \" \".join(rev)\n",
    "    corpus.append(rev)"
   ]
  },
  {
   "cell_type": "code",
   "execution_count": 21,
   "id": "9fd9b919",
   "metadata": {},
   "outputs": [],
   "source": [
    "# add the corpus to the original dataframe\n",
    "\n",
    "BA['corpus'] = corpus"
   ]
  },
  {
   "cell_type": "code",
   "execution_count": 22,
   "id": "a4b7848d",
   "metadata": {
    "scrolled": true
   },
   "outputs": [
    {
     "data": {
      "text/html": [
       "<div>\n",
       "<style scoped>\n",
       "    .dataframe tbody tr th:only-of-type {\n",
       "        vertical-align: middle;\n",
       "    }\n",
       "\n",
       "    .dataframe tbody tr th {\n",
       "        vertical-align: top;\n",
       "    }\n",
       "\n",
       "    .dataframe thead th {\n",
       "        text-align: right;\n",
       "    }\n",
       "</style>\n",
       "<table border=\"1\" class=\"dataframe\">\n",
       "  <thead>\n",
       "    <tr style=\"text-align: right;\">\n",
       "      <th></th>\n",
       "      <th>reviews</th>\n",
       "      <th>stars</th>\n",
       "      <th>date</th>\n",
       "      <th>country</th>\n",
       "      <th>verified</th>\n",
       "      <th>corpus</th>\n",
       "    </tr>\n",
       "  </thead>\n",
       "  <tbody>\n",
       "    <tr>\n",
       "      <th>0</th>\n",
       "      <td>✅ Trip Verified |  First our morning flight wa...</td>\n",
       "      <td>\\n\\t\\t\\t\\t\\t\\t\\t\\t\\t\\t\\t\\t\\t5</td>\n",
       "      <td>28th February 2023</td>\n",
       "      <td>Canada</td>\n",
       "      <td>True</td>\n",
       "      <td>first our morning flight was cancelled and mov...</td>\n",
       "    </tr>\n",
       "    <tr>\n",
       "      <th>1</th>\n",
       "      <td>✅ Trip Verified |  Although it was a bit uncom...</td>\n",
       "      <td>1</td>\n",
       "      <td>27th February 2023</td>\n",
       "      <td>United Kingdom</td>\n",
       "      <td>True</td>\n",
       "      <td>although it was a bit uncomfortable flight in ...</td>\n",
       "    </tr>\n",
       "    <tr>\n",
       "      <th>2</th>\n",
       "      <td>✅ Trip Verified |  Boarding was decently organ...</td>\n",
       "      <td>8</td>\n",
       "      <td>27th February 2023</td>\n",
       "      <td>Belgium</td>\n",
       "      <td>True</td>\n",
       "      <td>boarding was decently organised the a still ha...</td>\n",
       "    </tr>\n",
       "  </tbody>\n",
       "</table>\n",
       "</div>"
      ],
      "text/plain": [
       "                                             reviews  \\\n",
       "0  ✅ Trip Verified |  First our morning flight wa...   \n",
       "1  ✅ Trip Verified |  Although it was a bit uncom...   \n",
       "2  ✅ Trip Verified |  Boarding was decently organ...   \n",
       "\n",
       "                           stars                date         country  \\\n",
       "0  \\n\\t\\t\\t\\t\\t\\t\\t\\t\\t\\t\\t\\t\\t5  28th February 2023          Canada   \n",
       "1                              1  27th February 2023  United Kingdom   \n",
       "2                              8  27th February 2023         Belgium   \n",
       "\n",
       "   verified                                             corpus  \n",
       "0      True  first our morning flight was cancelled and mov...  \n",
       "1      True  although it was a bit uncomfortable flight in ...  \n",
       "2      True  boarding was decently organised the a still ha...  "
      ]
     },
     "execution_count": 22,
     "metadata": {},
     "output_type": "execute_result"
    }
   ],
   "source": [
    "BA.head(3)"
   ]
  },
  {
   "cell_type": "code",
   "execution_count": 23,
   "id": "407a55f9",
   "metadata": {},
   "outputs": [
    {
     "data": {
      "text/plain": [
       "reviews     object\n",
       "stars       object\n",
       "date        object\n",
       "country     object\n",
       "verified      bool\n",
       "corpus      object\n",
       "dtype: object"
      ]
     },
     "execution_count": 23,
     "metadata": {},
     "output_type": "execute_result"
    }
   ],
   "source": [
    "BA.dtypes"
   ]
  },
  {
   "cell_type": "code",
   "execution_count": 24,
   "id": "eea1de29",
   "metadata": {},
   "outputs": [
    {
     "data": {
      "text/plain": [
       "0   2023-02-28\n",
       "1   2023-02-27\n",
       "2   2023-02-27\n",
       "3   2023-02-27\n",
       "4   2023-02-26\n",
       "Name: date, dtype: datetime64[ns]"
      ]
     },
     "execution_count": 24,
     "metadata": {},
     "output_type": "execute_result"
    }
   ],
   "source": [
    "# convert the date to datetime format\n",
    "BA.date = pd.to_datetime(BA.date)\n",
    "BA.date.head()"
   ]
  },
  {
   "cell_type": "code",
   "execution_count": 25,
   "id": "c21fc216",
   "metadata": {},
   "outputs": [
    {
     "data": {
      "text/plain": [
       "array(['\\n\\t\\t\\t\\t\\t\\t\\t\\t\\t\\t\\t\\t\\t5', '1', '8', '6', '7', '4', '5', '9',\n",
       "       '10', '2', '3', 'None'], dtype=object)"
      ]
     },
     "execution_count": 25,
     "metadata": {},
     "output_type": "execute_result"
    }
   ],
   "source": [
    "#check for unique values\n",
    "BA.stars.unique()"
   ]
  },
  {
   "cell_type": "code",
   "execution_count": 26,
   "id": "b4662440",
   "metadata": {},
   "outputs": [],
   "source": [
    "# remove the \\t and \\n from the ratings\n",
    "BA.stars = BA.stars.str.strip(\"\\n\\t\\t\\t\\t\\t\\t\\t\\t\\t\\t\\t\\t\\t\")\n",
    "BA.drop(BA[BA.stars == 'None'].index, axis=0, inplace= True)"
   ]
  },
  {
   "cell_type": "code",
   "execution_count": 27,
   "id": "f21e434e",
   "metadata": {},
   "outputs": [
    {
     "data": {
      "text/plain": [
       "array(['5', '1', '8', '6', '7', '4', '9', '10', '2', '3'], dtype=object)"
      ]
     },
     "execution_count": 27,
     "metadata": {},
     "output_type": "execute_result"
    }
   ],
   "source": [
    "BA.stars.unique()"
   ]
  },
  {
   "cell_type": "code",
   "execution_count": 28,
   "id": "cc93f452",
   "metadata": {},
   "outputs": [
    {
     "data": {
      "text/plain": [
       "1     753\n",
       "2     390\n",
       "3     385\n",
       "8     350\n",
       "10    313\n",
       "7     304\n",
       "9     302\n",
       "5     261\n",
       "4     235\n",
       "6     184\n",
       "Name: stars, dtype: int64"
      ]
     },
     "execution_count": 28,
     "metadata": {},
     "output_type": "execute_result"
    }
   ],
   "source": [
    "BA.stars.value_counts()"
   ]
  },
  {
   "cell_type": "code",
   "execution_count": 29,
   "id": "d6317fc8",
   "metadata": {
    "scrolled": true
   },
   "outputs": [
    {
     "data": {
      "text/plain": [
       "reviews     0\n",
       "stars       0\n",
       "date        0\n",
       "country     2\n",
       "verified    0\n",
       "corpus      0\n",
       "dtype: int64"
      ]
     },
     "execution_count": 29,
     "metadata": {},
     "output_type": "execute_result"
    }
   ],
   "source": [
    "BA.isnull().sum()"
   ]
  },
  {
   "cell_type": "code",
   "execution_count": 30,
   "id": "54c8dd21",
   "metadata": {},
   "outputs": [],
   "source": [
    "BA.dropna(inplace = True)"
   ]
  },
  {
   "cell_type": "code",
   "execution_count": 31,
   "id": "991ea231",
   "metadata": {},
   "outputs": [
    {
     "data": {
      "text/plain": [
       "reviews     0\n",
       "stars       0\n",
       "date        0\n",
       "country     0\n",
       "verified    0\n",
       "corpus      0\n",
       "dtype: int64"
      ]
     },
     "execution_count": 31,
     "metadata": {},
     "output_type": "execute_result"
    }
   ],
   "source": [
    "BA.isnull().sum()"
   ]
  },
  {
   "cell_type": "code",
   "execution_count": 32,
   "id": "d01fb3d1",
   "metadata": {},
   "outputs": [
    {
     "data": {
      "text/plain": [
       "(3475, 6)"
      ]
     },
     "execution_count": 32,
     "metadata": {},
     "output_type": "execute_result"
    }
   ],
   "source": [
    "BA.shape"
   ]
  },
  {
   "cell_type": "code",
   "execution_count": 33,
   "id": "8254f629",
   "metadata": {},
   "outputs": [
    {
     "data": {
      "text/html": [
       "<div>\n",
       "<style scoped>\n",
       "    .dataframe tbody tr th:only-of-type {\n",
       "        vertical-align: middle;\n",
       "    }\n",
       "\n",
       "    .dataframe tbody tr th {\n",
       "        vertical-align: top;\n",
       "    }\n",
       "\n",
       "    .dataframe thead th {\n",
       "        text-align: right;\n",
       "    }\n",
       "</style>\n",
       "<table border=\"1\" class=\"dataframe\">\n",
       "  <thead>\n",
       "    <tr style=\"text-align: right;\">\n",
       "      <th></th>\n",
       "      <th>reviews</th>\n",
       "      <th>stars</th>\n",
       "      <th>date</th>\n",
       "      <th>country</th>\n",
       "      <th>verified</th>\n",
       "      <th>corpus</th>\n",
       "    </tr>\n",
       "  </thead>\n",
       "  <tbody>\n",
       "    <tr>\n",
       "      <th>0</th>\n",
       "      <td>✅ Trip Verified |  First our morning flight wa...</td>\n",
       "      <td>5</td>\n",
       "      <td>2023-02-28</td>\n",
       "      <td>Canada</td>\n",
       "      <td>True</td>\n",
       "      <td>first our morning flight was cancelled and mov...</td>\n",
       "    </tr>\n",
       "    <tr>\n",
       "      <th>1</th>\n",
       "      <td>✅ Trip Verified |  Although it was a bit uncom...</td>\n",
       "      <td>1</td>\n",
       "      <td>2023-02-27</td>\n",
       "      <td>United Kingdom</td>\n",
       "      <td>True</td>\n",
       "      <td>although it was a bit uncomfortable flight in ...</td>\n",
       "    </tr>\n",
       "  </tbody>\n",
       "</table>\n",
       "</div>"
      ],
      "text/plain": [
       "                                             reviews stars       date  \\\n",
       "0  ✅ Trip Verified |  First our morning flight wa...     5 2023-02-28   \n",
       "1  ✅ Trip Verified |  Although it was a bit uncom...     1 2023-02-27   \n",
       "\n",
       "          country  verified                                             corpus  \n",
       "0          Canada      True  first our morning flight was cancelled and mov...  \n",
       "1  United Kingdom      True  although it was a bit uncomfortable flight in ...  "
      ]
     },
     "execution_count": 33,
     "metadata": {},
     "output_type": "execute_result"
    }
   ],
   "source": [
    "BA.head(2)"
   ]
  },
  {
   "cell_type": "code",
   "execution_count": 34,
   "id": "c7b6c459",
   "metadata": {
    "scrolled": true
   },
   "outputs": [
    {
     "data": {
      "text/html": [
       "<div>\n",
       "<style scoped>\n",
       "    .dataframe tbody tr th:only-of-type {\n",
       "        vertical-align: middle;\n",
       "    }\n",
       "\n",
       "    .dataframe tbody tr th {\n",
       "        vertical-align: top;\n",
       "    }\n",
       "\n",
       "    .dataframe thead th {\n",
       "        text-align: right;\n",
       "    }\n",
       "</style>\n",
       "<table border=\"1\" class=\"dataframe\">\n",
       "  <thead>\n",
       "    <tr style=\"text-align: right;\">\n",
       "      <th></th>\n",
       "      <th>reviews</th>\n",
       "      <th>stars</th>\n",
       "      <th>date</th>\n",
       "      <th>country</th>\n",
       "      <th>verified</th>\n",
       "      <th>corpus</th>\n",
       "    </tr>\n",
       "  </thead>\n",
       "  <tbody>\n",
       "    <tr>\n",
       "      <th>0</th>\n",
       "      <td>✅ Trip Verified |  First our morning flight wa...</td>\n",
       "      <td>5</td>\n",
       "      <td>2023-02-28</td>\n",
       "      <td>Canada</td>\n",
       "      <td>True</td>\n",
       "      <td>first our morning flight was cancelled and mov...</td>\n",
       "    </tr>\n",
       "    <tr>\n",
       "      <th>1</th>\n",
       "      <td>✅ Trip Verified |  Although it was a bit uncom...</td>\n",
       "      <td>1</td>\n",
       "      <td>2023-02-27</td>\n",
       "      <td>United Kingdom</td>\n",
       "      <td>True</td>\n",
       "      <td>although it was a bit uncomfortable flight in ...</td>\n",
       "    </tr>\n",
       "    <tr>\n",
       "      <th>2</th>\n",
       "      <td>✅ Trip Verified |  Boarding was decently organ...</td>\n",
       "      <td>8</td>\n",
       "      <td>2023-02-27</td>\n",
       "      <td>Belgium</td>\n",
       "      <td>True</td>\n",
       "      <td>boarding was decently organised the a still ha...</td>\n",
       "    </tr>\n",
       "    <tr>\n",
       "      <th>3</th>\n",
       "      <td>✅ Trip Verified | Boarding on time and departu...</td>\n",
       "      <td>6</td>\n",
       "      <td>2023-02-27</td>\n",
       "      <td>Belgium</td>\n",
       "      <td>True</td>\n",
       "      <td>boarding on time and departure on time for a f...</td>\n",
       "    </tr>\n",
       "    <tr>\n",
       "      <th>4</th>\n",
       "      <td>✅ Trip Verified |  My original flight was canc...</td>\n",
       "      <td>7</td>\n",
       "      <td>2023-02-26</td>\n",
       "      <td>United Kingdom</td>\n",
       "      <td>True</td>\n",
       "      <td>my original flight was cancelled just over wee...</td>\n",
       "    </tr>\n",
       "    <tr>\n",
       "      <th>...</th>\n",
       "      <td>...</td>\n",
       "      <td>...</td>\n",
       "      <td>...</td>\n",
       "      <td>...</td>\n",
       "      <td>...</td>\n",
       "      <td>...</td>\n",
       "    </tr>\n",
       "    <tr>\n",
       "      <th>3470</th>\n",
       "      <td>Flew LHR - VIE return operated by bmi but BA a...</td>\n",
       "      <td>7</td>\n",
       "      <td>2012-08-29</td>\n",
       "      <td>United Kingdom</td>\n",
       "      <td>False</td>\n",
       "      <td>flew lhr vie return operated by bmi but ba air...</td>\n",
       "    </tr>\n",
       "    <tr>\n",
       "      <th>3471</th>\n",
       "      <td>LHR to HAM. Purser addresses all club passenge...</td>\n",
       "      <td>1</td>\n",
       "      <td>2012-08-28</td>\n",
       "      <td>United Kingdom</td>\n",
       "      <td>False</td>\n",
       "      <td>lhr to ham purser addresses all club passenger...</td>\n",
       "    </tr>\n",
       "    <tr>\n",
       "      <th>3472</th>\n",
       "      <td>My son who had worked for British Airways urge...</td>\n",
       "      <td>9</td>\n",
       "      <td>2011-10-12</td>\n",
       "      <td>United Kingdom</td>\n",
       "      <td>False</td>\n",
       "      <td>my son who had worked for british airways urge...</td>\n",
       "    </tr>\n",
       "    <tr>\n",
       "      <th>3473</th>\n",
       "      <td>London City-New York JFK via Shannon on A318 b...</td>\n",
       "      <td>8</td>\n",
       "      <td>2011-10-11</td>\n",
       "      <td>United States</td>\n",
       "      <td>False</td>\n",
       "      <td>london city new york jfk via shannon on a but ...</td>\n",
       "    </tr>\n",
       "    <tr>\n",
       "      <th>3474</th>\n",
       "      <td>SIN-LHR BA12 B747-436 First Class. Old aircraf...</td>\n",
       "      <td>10</td>\n",
       "      <td>2011-10-09</td>\n",
       "      <td>United Kingdom</td>\n",
       "      <td>False</td>\n",
       "      <td>sin lhr ba b first class old aircraft with sea...</td>\n",
       "    </tr>\n",
       "  </tbody>\n",
       "</table>\n",
       "<p>3475 rows × 6 columns</p>\n",
       "</div>"
      ],
      "text/plain": [
       "                                                reviews stars       date  \\\n",
       "0     ✅ Trip Verified |  First our morning flight wa...     5 2023-02-28   \n",
       "1     ✅ Trip Verified |  Although it was a bit uncom...     1 2023-02-27   \n",
       "2     ✅ Trip Verified |  Boarding was decently organ...     8 2023-02-27   \n",
       "3     ✅ Trip Verified | Boarding on time and departu...     6 2023-02-27   \n",
       "4     ✅ Trip Verified |  My original flight was canc...     7 2023-02-26   \n",
       "...                                                 ...   ...        ...   \n",
       "3470  Flew LHR - VIE return operated by bmi but BA a...     7 2012-08-29   \n",
       "3471  LHR to HAM. Purser addresses all club passenge...     1 2012-08-28   \n",
       "3472  My son who had worked for British Airways urge...     9 2011-10-12   \n",
       "3473  London City-New York JFK via Shannon on A318 b...     8 2011-10-11   \n",
       "3474  SIN-LHR BA12 B747-436 First Class. Old aircraf...    10 2011-10-09   \n",
       "\n",
       "             country  verified  \\\n",
       "0             Canada      True   \n",
       "1     United Kingdom      True   \n",
       "2            Belgium      True   \n",
       "3            Belgium      True   \n",
       "4     United Kingdom      True   \n",
       "...              ...       ...   \n",
       "3470  United Kingdom     False   \n",
       "3471  United Kingdom     False   \n",
       "3472  United Kingdom     False   \n",
       "3473   United States     False   \n",
       "3474  United Kingdom     False   \n",
       "\n",
       "                                                 corpus  \n",
       "0     first our morning flight was cancelled and mov...  \n",
       "1     although it was a bit uncomfortable flight in ...  \n",
       "2     boarding was decently organised the a still ha...  \n",
       "3     boarding on time and departure on time for a f...  \n",
       "4     my original flight was cancelled just over wee...  \n",
       "...                                                 ...  \n",
       "3470  flew lhr vie return operated by bmi but ba air...  \n",
       "3471  lhr to ham purser addresses all club passenger...  \n",
       "3472  my son who had worked for british airways urge...  \n",
       "3473  london city new york jfk via shannon on a but ...  \n",
       "3474  sin lhr ba b first class old aircraft with sea...  \n",
       "\n",
       "[3475 rows x 6 columns]"
      ]
     },
     "execution_count": 34,
     "metadata": {},
     "output_type": "execute_result"
    }
   ],
   "source": [
    "BA.reset_index(drop=True)"
   ]
  },
  {
   "cell_type": "code",
   "execution_count": 36,
   "id": "d51c0c8b",
   "metadata": {},
   "outputs": [],
   "source": [
    "# Export cleaned data\n",
    "BA.to_csv(cwd + \"/cleaned_BA_reviews.csv\" )"
   ]
  },
  {
   "cell_type": "code",
   "execution_count": null,
   "id": "0a45ec9d",
   "metadata": {},
   "outputs": [],
   "source": []
  }
 ],
 "metadata": {
  "kernelspec": {
   "display_name": "Python 3 (ipykernel)",
   "language": "python",
   "name": "python3"
  },
  "language_info": {
   "codemirror_mode": {
    "name": "ipython",
    "version": 3
   },
   "file_extension": ".py",
   "mimetype": "text/x-python",
   "name": "python",
   "nbconvert_exporter": "python",
   "pygments_lexer": "ipython3",
   "version": "3.9.7"
  }
 },
 "nbformat": 4,
 "nbformat_minor": 5
}
